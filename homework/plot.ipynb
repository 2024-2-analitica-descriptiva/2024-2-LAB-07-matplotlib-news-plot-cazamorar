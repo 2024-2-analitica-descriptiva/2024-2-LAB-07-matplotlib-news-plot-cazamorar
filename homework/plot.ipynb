{
 "cells": [
  {
   "cell_type": "code",
   "execution_count": null,
   "metadata": {},
   "outputs": [],
   "source": [
    "\n",
    "import pandas as pd\n",
    "import matplotlib.pyplot as plt\n",
    "\n",
    "df = pd.read_csv(\"files/input/news.csv\", index_col=0)\n",
    "    #print(df.head())\n",
    "\n",
    "for col in df.columns:\n",
    "    plt.plot(df[col], label=col)\n",
    "\n",
    "plt.title(\"How people get their news\", fontsize=16)\n",
    "plt.show"
   ]
  }
 ],
 "metadata": {
  "kernelspec": {
   "display_name": ".venv",
   "language": "python",
   "name": "python3"
  },
  "language_info": {
   "name": "python",
   "version": "3.12.3"
  }
 },
 "nbformat": 4,
 "nbformat_minor": 2
}
